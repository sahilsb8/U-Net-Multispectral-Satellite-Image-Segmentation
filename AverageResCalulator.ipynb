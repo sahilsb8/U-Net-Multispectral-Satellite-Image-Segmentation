{
  "nbformat": 4,
  "nbformat_minor": 0,
  "metadata": {
    "colab": {
      "provenance": []
    },
    "kernelspec": {
      "name": "python3",
      "display_name": "Python 3"
    },
    "language_info": {
      "name": "python"
    }
  },
  "cells": [
    {
      "cell_type": "code",
      "execution_count": null,
      "metadata": {
        "colab": {
          "base_uri": "https://localhost:8080/"
        },
        "id": "Y6lAH2UndbKN",
        "outputId": "72386116-08a8-4212-c0f8-e8dc71999c88"
      },
      "outputs": [
        {
          "output_type": "stream",
          "name": "stdout",
          "text": [
            "Requirement already satisfied: pillow in /usr/local/lib/python3.10/dist-packages (9.4.0)\n"
          ]
        }
      ],
      "source": [
        "pip install pillow"
      ]
    },
    {
      "cell_type": "code",
      "source": [
        "from PIL import Image\n",
        "import os\n",
        "\n",
        "def calculate_average_resolution(image_folder):\n",
        "    total_width = 0\n",
        "    total_height = 0\n",
        "    image_count = 0\n",
        "\n",
        "    # Iterate over all files in the directory\n",
        "    for filename in os.listdir(image_folder):\n",
        "        if filename.endswith(('.png', '.jpg', '.jpeg', '.bmp', '.gif')):  # Add more formats if needed\n",
        "            image_path = os.path.join(image_folder, filename)\n",
        "            with Image.open(image_path) as img:\n",
        "                width, height = img.size\n",
        "                total_width += width\n",
        "                total_height += height\n",
        "                image_count += 1\n",
        "\n",
        "    if image_count == 0:\n",
        "        return (0, 0)  # Avoid division by zero if no images found\n",
        "\n",
        "    average_width = total_width / image_count\n",
        "    average_height = total_height / image_count\n",
        "\n",
        "    return (average_width, average_height)\n",
        "\n",
        "# Example usage\n",
        "image_folder = '/content/drive/MyDrive/Research/Dataset/test/masks'\n",
        "average_width, average_height = calculate_average_resolution(image_folder)\n",
        "print(f\"Average Width: {average_width}, Average Height: {average_height}\")\n"
      ],
      "metadata": {
        "colab": {
          "base_uri": "https://localhost:8080/"
        },
        "id": "5UbeDda9dkRp",
        "outputId": "392a1b2e-a266-434c-da3b-99bf172501ae"
      },
      "execution_count": null,
      "outputs": [
        {
          "output_type": "stream",
          "name": "stdout",
          "text": [
            "Average Width: 1608.0, Average Height: 940.0526315789474\n"
          ]
        }
      ]
    }
  ]
}