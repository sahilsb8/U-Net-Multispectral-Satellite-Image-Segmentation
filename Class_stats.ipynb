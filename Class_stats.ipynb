{
 "cells": [
  {
   "cell_type": "code",
   "execution_count": 1,
   "id": "45eef38a",
   "metadata": {},
   "outputs": [],
   "source": [
    "#this is the root directory which will contain the folder to dataset of mask images in rgb\n",
    "\n",
    "root_directory = '/Users/sahilborkar/Downloads/Project'"
   ]
  },
  {
   "cell_type": "code",
   "execution_count": 2,
   "id": "af72c39c",
   "metadata": {},
   "outputs": [
    {
     "name": "stdout",
     "output_type": "stream",
     "text": [
      "[121748829, 158329092, 156033075, 54830034]\n",
      "490941030\n"
     ]
    }
   ],
   "source": [
    "import os\n",
    "import numpy as np\n",
    "from PIL import Image\n",
    "classes = [0, 0, 0, 0]\n",
    "total = 0\n",
    "\n",
    "def calculate_pixel_area(segmented_image):\n",
    "    unique_classes = np.unique(segmented_image)\n",
    "    class_areas = {}\n",
    "\n",
    "    for cls in unique_classes:\n",
    "        # Count pixels for each class\n",
    "        pixels_in_class = np.sum(segmented_image == cls)\n",
    "        class_areas[cls] = pixels_in_class\n",
    "    return class_areas\n",
    "\n",
    "for path, subdirs, files in os.walk(root_directory):\n",
    "    #print(path)  \n",
    "    dirname = path.split(os.path.sep)[-1]\n",
    "    if dirname == 'masks_i':   #REPLACE THIS WITH THE FOLDER NAME WITH THE MASK DATASET\n",
    "        images = os.listdir(path)  #List of all image names in this subdirectory\n",
    "        for i, image_name in enumerate(images):  \n",
    "            if image_name.endswith(\".png\"): \n",
    "                \n",
    "                img= Image.open(path+\"/\"+image_name)\n",
    "                segmented_image = np.array(img)\n",
    "                class_areas = calculate_pixel_area(segmented_image)\n",
    "                for cls, area in class_areas.items():\n",
    "                    classes[cls] = classes[cls] + area\n",
    "                    total += area\n",
    "\n",
    "print(classes)\n",
    "print(total)"
   ]
  },
  {
   "cell_type": "code",
   "execution_count": 3,
   "id": "e8885de0",
   "metadata": {},
   "outputs": [
    {
     "name": "stdout",
     "output_type": "stream",
     "text": [
      "undefined: 24.799073933584243%\n",
      "builtup: 32.25012421552951%\n",
      "vegetation: 31.78244747643113%\n",
      "water: 11.168354374455115%\n"
     ]
    }
   ],
   "source": [
    "print(\"undefined: \" + str((classes[0] / total)*100) + \"%\")\n",
    "undefined_perc = (classes[0] / total)*100\n",
    "print(\"builtup: \" + str((classes[1] / total)*100) + \"%\")\n",
    "builtup_perc = (classes[1] / total)*100\n",
    "print(\"vegetation: \" + str((classes[2] / total)*100) + \"%\")\n",
    "vegetation_perc = (classes[2] / total)*100\n",
    "print(\"water: \" + str((classes[3] / total)*100) + \"%\")\n",
    "water_perc = (classes[3] / total)*100"
   ]
  },
  {
   "cell_type": "code",
   "execution_count": 4,
   "id": "7edc893b",
   "metadata": {},
   "outputs": [
    {
     "data": {
      "image/png": "[encoded data removed]",
      "text/plain": [
       "<Figure size 640x480 with 1 Axes>"
      ]
     },
     "metadata": {},
     "output_type": "display_data"
    }
   ],
   "source": [
    "import matplotlib.pyplot as plt\n",
    "\n",
    "x = np.array([\"Undefined\", \"Builtup\", \"Vegetation\", \"Water\"])\n",
    "y = np.array([undefined_perc, builtup_perc, vegetation_perc, water_perc])\n",
    "\n",
    "plt.bar(x, y, color = \"#4CAF50\")\n",
    "\n",
    "plt.xlabel(\"Classes\")\n",
    "plt.ylabel(\"Percentage\")\n",
    "\n",
    "plt.show()"
   ]
  }
 ],
 "metadata": {
  "kernelspec": {
   "display_name": "Python 3 (ipykernel)",
   "language": "python",
   "name": "python3"
  },
  "language_info": {
   "codemirror_mode": {
    "name": "ipython",
    "version": 3
   },
   "file_extension": ".py",
   "mimetype": "text/x-python",
   "name": "python",
   "nbconvert_exporter": "python",
   "pygments_lexer": "ipython3",
   "version": "3.9.13"
  }
 },
 "nbformat": 4,
 "nbformat_minor": 5
}
