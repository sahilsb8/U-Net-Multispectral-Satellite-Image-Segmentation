{
  "nbformat": 4,
  "nbformat_minor": 0,
  "metadata": {
    "colab": {
      "provenance": [],
      "gpuType": "L4"
    },
    "kernelspec": {
      "name": "python3",
      "display_name": "Python 3"
    },
    "language_info": {
      "name": "python"
    },
    "accelerator": "GPU"
  },
  "cells": [
    {
      "cell_type": "code",
      "source": [
        "!pip install patchify"
      ],
      "metadata": {
        "colab": {
          "base_uri": "https://localhost:8080/"
        },
        "id": "DHcM6P3VENgi",
        "outputId": "72c00124-e203-421a-dc6c-12957cc08da6"
      },
      "execution_count": null,
      "outputs": [
        {
          "output_type": "stream",
          "name": "stdout",
          "text": [
            "Collecting patchify\n",
            "  Downloading patchify-0.2.3-py3-none-any.whl (6.6 kB)\n",
            "Requirement already satisfied: numpy<2,>=1 in /usr/local/lib/python3.10/dist-packages (from patchify) (1.25.2)\n",
            "Installing collected packages: patchify\n",
            "Successfully installed patchify-0.2.3\n"
          ]
        }
      ]
    },
    {
      "cell_type": "code",
      "execution_count": null,
      "metadata": {
        "id": "MoIO22cjDF8y"
      },
      "outputs": [],
      "source": [
        "from patchify import patchify\n",
        "from PIL import Image"
      ]
    },
    {
      "cell_type": "code",
      "source": [
        "import os\n",
        "import numpy as np\n",
        "import cv2"
      ],
      "metadata": {
        "id": "srkG7NKZDnUB"
      },
      "execution_count": null,
      "outputs": []
    },
    {
      "cell_type": "code",
      "source": [
        "from sklearn.preprocessing import MinMaxScaler, StandardScaler\n",
        "scaler = MinMaxScaler()"
      ],
      "metadata": {
        "id": "OB3FSM1iDoFR"
      },
      "execution_count": null,
      "outputs": []
    },
    {
      "cell_type": "code",
      "source": [
        "root_directory = '/content/drive/MyDrive/Research/Dataset/test/' #Put the directory which contains the folder of the dataset to be tiled\n",
        "patch_size = 256"
      ],
      "metadata": {
        "id": "l2b7wzRADqMX"
      },
      "execution_count": null,
      "outputs": []
    },
    {
      "cell_type": "code",
      "source": [
        "count = 0\n",
        "for path, subdirs, files in os.walk(root_directory):\n",
        "    #print(path)\n",
        "    dirname = path.split(os.path.sep)[-1]\n",
        "    if dirname == 'images':   #Find all 'images' directories\n",
        "        images = sorted(os.listdir(path))  #List of all image names in this subdirectory\n",
        "        for i, image_name in enumerate(images):\n",
        "            if image_name.endswith(\".png\"):   #Only read png images...\n",
        "\n",
        "                image = cv2.imread(path+\"/\"+image_name, 1)  #Read each image as BGR\n",
        "                SIZE_X = (image.shape[1]//patch_size)*patch_size #Nearest size divisible by our patch size\n",
        "                SIZE_Y = (image.shape[0]//patch_size)*patch_size #Nearest size divisible by our patch size\n",
        "                image = Image.fromarray(image)\n",
        "                image = image.crop((0 ,0, SIZE_X, SIZE_Y))  #Crop from top left corner\n",
        "                #image = image.resize((SIZE_X, SIZE_Y))  #Try not to resize for semantic segmentation\n",
        "                image = np.array(image)\n",
        "\n",
        "                #Extract patches from each image\n",
        "                print(\"Now patchifying image:\", path+\"/\"+image_name)\n",
        "                patches_img = patchify(image, (patch_size, patch_size, 3), step=patch_size)  #Step=256 for 256 patches means no overlap\n",
        "\n",
        "                for i in range(patches_img.shape[0]):\n",
        "                    for j in range(patches_img.shape[1]):\n",
        "\n",
        "                        single_patch_img = patches_img[i,j,:,:]\n",
        "\n",
        "                        #Use minmaxscaler instead of just dividing by 255.\n",
        "                        single_patch_img = scaler.fit_transform(single_patch_img.reshape(-1, single_patch_img.shape[-1])).reshape(single_patch_img.shape)\n",
        "\n",
        "                        #single_patch_img = (single_patch_img.astype('float32')) / 255.\n",
        "                        single_patch_img = single_patch_img[0] #Drop the extra unecessary dimension that patchify adds.\n",
        "                        im = Image.fromarray((single_patch_img * 255).astype(np.uint8))\n",
        "                        im.save(\"/content/drive/MyDrive/Research/Dataset/testDeep/images256/\"+str(count)+\".png\")\n",
        "                        count = count+1\n",
        "                        #single_patch_img.save(r\"C:/Users/Admin/Downloads/Temp/images_tiles_512x512/\"+(i*j)+\"tile.png\")\n",
        "                        #image_dataset.append(single_patch_img)"
      ],
      "metadata": {
        "colab": {
          "base_uri": "https://localhost:8080/"
        },
        "id": "Lv-OB9vUDwZU",
        "outputId": "97d7e52b-4d64-4f05-e7fb-2ddae6b368c4"
      },
      "execution_count": null,
      "outputs": [
        {
          "output_type": "stream",
          "name": "stdout",
          "text": [
            "Now patchifying image: /content/drive/MyDrive/Research/Dataset/test/images/0.png\n",
            "Now patchifying image: /content/drive/MyDrive/Research/Dataset/test/images/1.png\n",
            "Now patchifying image: /content/drive/MyDrive/Research/Dataset/test/images/10.png\n",
            "Now patchifying image: /content/drive/MyDrive/Research/Dataset/test/images/100.png\n",
            "Now patchifying image: /content/drive/MyDrive/Research/Dataset/test/images/101.png\n",
            "Now patchifying image: /content/drive/MyDrive/Research/Dataset/test/images/102.png\n",
            "Now patchifying image: /content/drive/MyDrive/Research/Dataset/test/images/103.png\n",
            "Now patchifying image: /content/drive/MyDrive/Research/Dataset/test/images/104.png\n",
            "Now patchifying image: /content/drive/MyDrive/Research/Dataset/test/images/105.png\n",
            "Now patchifying image: /content/drive/MyDrive/Research/Dataset/test/images/106.png\n",
            "Now patchifying image: /content/drive/MyDrive/Research/Dataset/test/images/11.png\n",
            "Now patchifying image: /content/drive/MyDrive/Research/Dataset/test/images/12.png\n",
            "Now patchifying image: /content/drive/MyDrive/Research/Dataset/test/images/13.png\n",
            "Now patchifying image: /content/drive/MyDrive/Research/Dataset/test/images/14.png\n",
            "Now patchifying image: /content/drive/MyDrive/Research/Dataset/test/images/15.png\n",
            "Now patchifying image: /content/drive/MyDrive/Research/Dataset/test/images/16.png\n",
            "Now patchifying image: /content/drive/MyDrive/Research/Dataset/test/images/17.png\n",
            "Now patchifying image: /content/drive/MyDrive/Research/Dataset/test/images/18.png\n",
            "Now patchifying image: /content/drive/MyDrive/Research/Dataset/test/images/19.png\n",
            "Now patchifying image: /content/drive/MyDrive/Research/Dataset/test/images/2.png\n",
            "Now patchifying image: /content/drive/MyDrive/Research/Dataset/test/images/20.png\n",
            "Now patchifying image: /content/drive/MyDrive/Research/Dataset/test/images/21.png\n",
            "Now patchifying image: /content/drive/MyDrive/Research/Dataset/test/images/22.png\n",
            "Now patchifying image: /content/drive/MyDrive/Research/Dataset/test/images/23.png\n",
            "Now patchifying image: /content/drive/MyDrive/Research/Dataset/test/images/24.png\n",
            "Now patchifying image: /content/drive/MyDrive/Research/Dataset/test/images/25.png\n",
            "Now patchifying image: /content/drive/MyDrive/Research/Dataset/test/images/26.png\n",
            "Now patchifying image: /content/drive/MyDrive/Research/Dataset/test/images/27.png\n",
            "Now patchifying image: /content/drive/MyDrive/Research/Dataset/test/images/28.png\n",
            "Now patchifying image: /content/drive/MyDrive/Research/Dataset/test/images/29.png\n",
            "Now patchifying image: /content/drive/MyDrive/Research/Dataset/test/images/3.png\n",
            "Now patchifying image: /content/drive/MyDrive/Research/Dataset/test/images/30.png\n",
            "Now patchifying image: /content/drive/MyDrive/Research/Dataset/test/images/31.png\n",
            "Now patchifying image: /content/drive/MyDrive/Research/Dataset/test/images/32.png\n",
            "Now patchifying image: /content/drive/MyDrive/Research/Dataset/test/images/33.png\n",
            "Now patchifying image: /content/drive/MyDrive/Research/Dataset/test/images/34.png\n",
            "Now patchifying image: /content/drive/MyDrive/Research/Dataset/test/images/35.png\n",
            "Now patchifying image: /content/drive/MyDrive/Research/Dataset/test/images/36.png\n",
            "Now patchifying image: /content/drive/MyDrive/Research/Dataset/test/images/37.png\n",
            "Now patchifying image: /content/drive/MyDrive/Research/Dataset/test/images/39.png\n",
            "Now patchifying image: /content/drive/MyDrive/Research/Dataset/test/images/4.png\n",
            "Now patchifying image: /content/drive/MyDrive/Research/Dataset/test/images/40.png\n",
            "Now patchifying image: /content/drive/MyDrive/Research/Dataset/test/images/41.png\n",
            "Now patchifying image: /content/drive/MyDrive/Research/Dataset/test/images/42.png\n",
            "Now patchifying image: /content/drive/MyDrive/Research/Dataset/test/images/43.png\n",
            "Now patchifying image: /content/drive/MyDrive/Research/Dataset/test/images/44.png\n",
            "Now patchifying image: /content/drive/MyDrive/Research/Dataset/test/images/45.png\n",
            "Now patchifying image: /content/drive/MyDrive/Research/Dataset/test/images/46.png\n",
            "Now patchifying image: /content/drive/MyDrive/Research/Dataset/test/images/47.png\n",
            "Now patchifying image: /content/drive/MyDrive/Research/Dataset/test/images/48.png\n",
            "Now patchifying image: /content/drive/MyDrive/Research/Dataset/test/images/49.png\n",
            "Now patchifying image: /content/drive/MyDrive/Research/Dataset/test/images/5.png\n",
            "Now patchifying image: /content/drive/MyDrive/Research/Dataset/test/images/50.png\n",
            "Now patchifying image: /content/drive/MyDrive/Research/Dataset/test/images/51.png\n",
            "Now patchifying image: /content/drive/MyDrive/Research/Dataset/test/images/52.png\n",
            "Now patchifying image: /content/drive/MyDrive/Research/Dataset/test/images/53.png\n",
            "Now patchifying image: /content/drive/MyDrive/Research/Dataset/test/images/55.png\n",
            "Now patchifying image: /content/drive/MyDrive/Research/Dataset/test/images/56.png\n",
            "Now patchifying image: /content/drive/MyDrive/Research/Dataset/test/images/58.png\n",
            "Now patchifying image: /content/drive/MyDrive/Research/Dataset/test/images/59.png\n",
            "Now patchifying image: /content/drive/MyDrive/Research/Dataset/test/images/6.png\n",
            "Now patchifying image: /content/drive/MyDrive/Research/Dataset/test/images/61.png\n",
            "Now patchifying image: /content/drive/MyDrive/Research/Dataset/test/images/63.png\n",
            "Now patchifying image: /content/drive/MyDrive/Research/Dataset/test/images/64.png\n",
            "Now patchifying image: /content/drive/MyDrive/Research/Dataset/test/images/65.png\n",
            "Now patchifying image: /content/drive/MyDrive/Research/Dataset/test/images/66.png\n",
            "Now patchifying image: /content/drive/MyDrive/Research/Dataset/test/images/68.png\n",
            "Now patchifying image: /content/drive/MyDrive/Research/Dataset/test/images/7.png\n",
            "Now patchifying image: /content/drive/MyDrive/Research/Dataset/test/images/70.png\n",
            "Now patchifying image: /content/drive/MyDrive/Research/Dataset/test/images/71.png\n",
            "Now patchifying image: /content/drive/MyDrive/Research/Dataset/test/images/72.png\n",
            "Now patchifying image: /content/drive/MyDrive/Research/Dataset/test/images/74.png\n",
            "Now patchifying image: /content/drive/MyDrive/Research/Dataset/test/images/76.png\n",
            "Now patchifying image: /content/drive/MyDrive/Research/Dataset/test/images/77.png\n",
            "Now patchifying image: /content/drive/MyDrive/Research/Dataset/test/images/78.png\n",
            "Now patchifying image: /content/drive/MyDrive/Research/Dataset/test/images/79.png\n",
            "Now patchifying image: /content/drive/MyDrive/Research/Dataset/test/images/8.png\n",
            "Now patchifying image: /content/drive/MyDrive/Research/Dataset/test/images/80.png\n",
            "Now patchifying image: /content/drive/MyDrive/Research/Dataset/test/images/81.png\n",
            "Now patchifying image: /content/drive/MyDrive/Research/Dataset/test/images/82.png\n",
            "Now patchifying image: /content/drive/MyDrive/Research/Dataset/test/images/83.png\n",
            "Now patchifying image: /content/drive/MyDrive/Research/Dataset/test/images/84.png\n",
            "Now patchifying image: /content/drive/MyDrive/Research/Dataset/test/images/85.png\n",
            "Now patchifying image: /content/drive/MyDrive/Research/Dataset/test/images/86.png\n",
            "Now patchifying image: /content/drive/MyDrive/Research/Dataset/test/images/87.png\n",
            "Now patchifying image: /content/drive/MyDrive/Research/Dataset/test/images/88.png\n",
            "Now patchifying image: /content/drive/MyDrive/Research/Dataset/test/images/89.png\n",
            "Now patchifying image: /content/drive/MyDrive/Research/Dataset/test/images/9.png\n",
            "Now patchifying image: /content/drive/MyDrive/Research/Dataset/test/images/90.png\n",
            "Now patchifying image: /content/drive/MyDrive/Research/Dataset/test/images/91.png\n",
            "Now patchifying image: /content/drive/MyDrive/Research/Dataset/test/images/92.png\n",
            "Now patchifying image: /content/drive/MyDrive/Research/Dataset/test/images/96.png\n",
            "Now patchifying image: /content/drive/MyDrive/Research/Dataset/test/images/97.png\n",
            "Now patchifying image: /content/drive/MyDrive/Research/Dataset/test/images/98.png\n",
            "Now patchifying image: /content/drive/MyDrive/Research/Dataset/test/images/99.png\n"
          ]
        }
      ]
    }
  ]
}