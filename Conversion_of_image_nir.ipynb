{
 "cells": [
  {
   "cell_type": "code",
   "execution_count": 1,
   "id": "0aa390f7",
   "metadata": {},
   "outputs": [],
   "source": [
    "import rioxarray\n",
    "import os\n",
    "import numpy as np\n",
    "import matplotlib.image as plt"
   ]
  },
  {
   "cell_type": "code",
   "execution_count": 3,
   "id": "a8695c2d",
   "metadata": {},
   "outputs": [],
   "source": [
    "def load_image(image_path):\n",
    "    image_bnd = rioxarray.open_rasterio(image_path)\n",
    "    # print(image_bnd)\n",
    "    # print(type(image_bnd))\n",
    "    # print(image_bnd.shape)\n",
    "    # print(image_bnd.values)\n",
    "    blue = image_bnd.sel(band=1)\n",
    "    green = image_bnd.sel(band=2)\n",
    "    red = image_bnd.sel(band=3)\n",
    "    nir = image_bnd.sel(band=4)\n",
    "    swir1 = image_bnd.sel(band=5)\n",
    "    swir2 = image_bnd.sel(band=6)\n",
    "\n",
    "    img = {'b': blue, 'g': green, 'r': red, 'nir': nir, 'mir1': swir1, 'mir2': swir2}\n",
    "    print(image_path)\n",
    "    return img"
   ]
  },
  {
   "cell_type": "code",
   "execution_count": 4,
   "id": "16273a92",
   "metadata": {},
   "outputs": [],
   "source": [
    "def normalize(band):\n",
    "    band_min, band_max = (band.min(), band.max())\n",
    "    return (band - band_min) / (band_max - band_min)"
   ]
  },
  {
   "cell_type": "code",
   "execution_count": 8,
   "id": "c2940525",
   "metadata": {},
   "outputs": [],
   "source": [
    "def rgb_image(bands,file_name):\n",
    "    near_infra = normalize(bands.get('nir'))\n",
    "    composite = np.dstack((near_infra, near_infra, near_infra))\n",
    "    plt.imsave(file_name, composite)\n",
    "    return composite"
   ]
  },
  {
   "cell_type": "code",
   "execution_count": 6,
   "id": "493d8d0f",
   "metadata": {},
   "outputs": [],
   "source": [
    "def bulk_tif2rgb(infolder,outfolder):\n",
    "    for filename in os.listdir(infolder):\n",
    "        file_name= filename[0:-4]\n",
    "        bands = load_image(infolder+filename)\n",
    "        png_name = outfolder+ file_name+\".png\"\n",
    "        rgb_image(bands,png_name)"
   ]
  },
  {
   "cell_type": "code",
   "execution_count": 10,
   "id": "c5d7c8d3",
   "metadata": {},
   "outputs": [
    {
     "name": "stdout",
     "output_type": "stream",
     "text": [
      "/Users/sahilborkar/Downloads/infolder/99.tif\n",
      "/Users/sahilborkar/Downloads/infolder/88.tif\n",
      "/Users/sahilborkar/Downloads/infolder/90.tif\n"
     ]
    }
   ],
   "source": [
    "#replace the infolder and outfolder accordingly\n",
    "\n",
    "infolder = r\"/Users/sahilborkar/Downloads/infolder/\"\n",
    "outfolder= r\"/Users/sahilborkar/Downloads/outfolder/\"\n",
    "bulk_tif2rgb(infolder,outfolder)"
   ]
  }
 ],
 "metadata": {
  "kernelspec": {
   "display_name": "Python 3 (ipykernel)",
   "language": "python",
   "name": "python3"
  },
  "language_info": {
   "codemirror_mode": {
    "name": "ipython",
    "version": 3
   },
   "file_extension": ".py",
   "mimetype": "text/x-python",
   "name": "python",
   "nbconvert_exporter": "python",
   "pygments_lexer": "ipython3",
   "version": "3.9.13"
  },
  "vscode": {
   "interpreter": {
    "hash": "e89691e4663d647bc11c8a9859f5cdd56224e794f653bdd6c406cd9780fe241b"
   }
  }
 },
 "nbformat": 4,
 "nbformat_minor": 5
}
